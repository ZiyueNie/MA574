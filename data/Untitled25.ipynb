{
  "nbformat": 4,
  "nbformat_minor": 0,
  "metadata": {
    "colab": {
      "name": "Untitled25.ipynb",
      "provenance": [],
      "include_colab_link": true
    },
    "kernelspec": {
      "name": "python3",
      "display_name": "Python 3"
    }
  },
  "cells": [
    {
      "cell_type": "markdown",
      "metadata": {
        "id": "view-in-github",
        "colab_type": "text"
      },
      "source": [
        "<a href=\"https://colab.research.google.com/github/ZiyueNie/MA574/blob/master/data/Untitled25.ipynb\" target=\"_parent\"><img src=\"https://colab.research.google.com/assets/colab-badge.svg\" alt=\"Open In Colab\"/></a>"
      ]
    },
    {
      "cell_type": "code",
      "metadata": {
        "id": "j2adxY56RtBR",
        "colab_type": "code",
        "colab": {}
      },
      "source": [
        "import numpy as np\n",
        "import matplotlib.pyplot as plt\n",
        "import math\n",
        "import csv"
      ],
      "execution_count": 0,
      "outputs": []
    },
    {
      "cell_type": "code",
      "metadata": {
        "id": "kUM4aU-QVo0c",
        "colab_type": "code",
        "outputId": "c833fae1-e5e4-44a3-8546-42a939a07694",
        "colab": {
          "base_uri": "https://localhost:8080/",
          "height": 237
        }
      },
      "source": [
        "\n"
      ],
      "execution_count": 0,
      "outputs": [
        {
          "output_type": "error",
          "ename": "NameError",
          "evalue": "ignored",
          "traceback": [
            "\u001b[0;31m---------------------------------------------------------------------------\u001b[0m",
            "\u001b[0;31mNameError\u001b[0m                                 Traceback (most recent call last)",
            "\u001b[0;32m<ipython-input-2-43c04f820046>\u001b[0m in \u001b[0;36m<module>\u001b[0;34m()\u001b[0m\n\u001b[0;32m----> 1\u001b[0;31m \u001b[0;32mfor\u001b[0m \u001b[0mn\u001b[0m \u001b[0;32min\u001b[0m \u001b[0mns\u001b[0m\u001b[0;34m:\u001b[0m\u001b[0;34m\u001b[0m\u001b[0;34m\u001b[0m\u001b[0m\n\u001b[0m\u001b[1;32m      2\u001b[0m     \u001b[0mOmega\u001b[0m\u001b[0;34m=\u001b[0m \u001b[0mgetData\u001b[0m\u001b[0;34m(\u001b[0m\u001b[0mn\u001b[0m\u001b[0;34m)\u001b[0m\u001b[0;34m\u001b[0m\u001b[0;34m\u001b[0m\u001b[0m\n\u001b[1;32m      3\u001b[0m     \u001b[0mmu_m\u001b[0m\u001b[0;34m=\u001b[0m\u001b[0msetting\u001b[0m\u001b[0;34m(\u001b[0m\u001b[0mOmega\u001b[0m\u001b[0;34m)\u001b[0m\u001b[0;34m\u001b[0m\u001b[0;34m\u001b[0m\u001b[0m\n\u001b[1;32m      4\u001b[0m     \u001b[0mw\u001b[0m\u001b[0;34m=\u001b[0m\u001b[0moptimalPortfolio\u001b[0m\u001b[0;34m(\u001b[0m\u001b[0mmu\u001b[0m\u001b[0;34m,\u001b[0m\u001b[0mOmega\u001b[0m\u001b[0;34m,\u001b[0m\u001b[0mmu_m\u001b[0m\u001b[0;34m)\u001b[0m\u001b[0;34m\u001b[0m\u001b[0;34m\u001b[0m\u001b[0m\n\u001b[1;32m      5\u001b[0m     \u001b[0mprint\u001b[0m\u001b[0;34m(\u001b[0m\u001b[0mw\u001b[0m\u001b[0;34m)\u001b[0m\u001b[0;34m\u001b[0m\u001b[0;34m\u001b[0m\u001b[0m\n",
            "\u001b[0;31mNameError\u001b[0m: name 'ns' is not defined"
          ]
        }
      ]
    },
    {
      "cell_type": "code",
      "metadata": {
        "id": "zOxIZdo5gNnD",
        "colab_type": "code",
        "colab": {}
      },
      "source": [
        "for n in ns:\n",
        "    Omega= getData(n)\n",
        "    mu_m=setting(Omega)\n",
        "    w=optimalPortfolio(mu,Omega,mu_m)\n",
        "    print(w)\n",
        "    plt.bar(range(len(w)), w ,tick_label=names)\n",
        "    plt.show()\n",
        "\n",
        "stocks=['AMZN','FB','AAPL','JNJ','DOV','FIT','APD','TIF','net_liq_val']\n",
        "MKT_0=[-500757,\n",
        "-403973,\n",
        "-403890,\n",
        "102198,\n",
        "-416197,\n",
        "-394327,\n",
        "101644,\n",
        "-403974,\n",
        "1044291]\n",
        "net_liq_val_0=1044291\n",
        "plt.bar(range(len(stocks)), MKT_0 ,tick_label=stocks)\n",
        "plt.bar(8,net_liq_val_0,facecolor = 'yellowgreen')\n",
        "'''for a,b in zip(range(len(stocks)), MKT_0): \n",
        " plt.text(a, b+0.05, '%.0f' % b, ha='center', va= 'bottom',fontsize=11) '''\n",
        "plt.xlabel(\"stocks and net liquidation value\") \n",
        "plt.ylabel(\"Market value\") \n",
        "plt.title(\"2019/10/30 Initial Portfolio\")\n",
        "plt.show()\n",
        "\n",
        "MKT_1=[-502795,\n",
        "-183553,\n",
        "-424950,\n",
        "102067,\n",
        "-417949,\n",
        "-434392,\n",
        "100659,\n",
        "-406203,\n",
        "983658\n",
        "]\n",
        "net_liq_val_1=983658\n",
        "plt.bar(range(len(stocks)), MKT_1 ,tick_label=stocks)\n",
        "plt.bar(8,net_liq_val_1,facecolor = 'yellowgreen')\n",
        "'''for a,b in zip(range(len(stocks)), MKT_0): \n",
        " plt.text(a, b+0.05, '%.0f' % b, ha='center', va= 'bottom',fontsize=11) '''\n",
        "plt.xlabel(\"stocks and net liquidation value\") \n",
        "plt.ylabel(\"Market value\") \n",
        "plt.title(\"2019/10/31 Portfolio\")\n",
        "plt.show()\n",
        "\n",
        "MKT_2=[-256099,\n",
        "-265357,\n",
        "-217856,\n",
        "101425,\n",
        "-438996,\n",
        "-501168,\n",
        "100800,\n",
        "-416433,\n",
        "879940\n",
        "]\n",
        "net_liq_val_2=879940\n",
        "plt.bar(range(len(stocks)), MKT_2 ,tick_label=stocks)\n",
        "plt.bar(8,net_liq_val_2,facecolor = 'yellowgreen')\n",
        "'''for a,b in zip(range(len(stocks)), MKT_0): \n",
        " plt.text(a, b+0.05, '%.0f' % b, ha='center', va= 'bottom',fontsize=11) '''\n",
        "plt.xlabel(\"stocks and net liquidation value\") \n",
        "plt.ylabel(\"Market value\") \n",
        "plt.title(\"2019/11/1 Portfolio\")\n",
        "plt.show()\n",
        "\n",
        "MKT_3=[-209353,\n",
        "-246782,\n",
        "-219330,\n",
        "92984,\n",
        "-450235,\n",
        "-493436,\n",
        "101206,\n",
        "-418236,\n",
        "868292\n",
        "]\n",
        "net_liq_val_3=868292\n",
        "plt.bar(range(len(stocks)), MKT_3 ,tick_label=stocks)\n",
        "plt.bar(8,net_liq_val_3,facecolor = 'yellowgreen')\n",
        "'''for a,b in zip(range(len(stocks)), MKT_0): \n",
        " plt.text(a, b+0.05, '%.0f' % b, ha='center', va= 'bottom',fontsize=11) '''\n",
        "plt.xlabel(\"stocks and net liquidation value\") \n",
        "plt.ylabel(\"Market value\") \n",
        "plt.title(\"2019/11/4 Portfolio\")\n",
        "plt.show()\n",
        "\n",
        "MKT_4=[-208887,\n",
        "-246077,\n",
        "-221851,\n",
        "93120,\n",
        "-501400,\n",
        "-494842,\n",
        "102226,\n",
        "-409219,\n",
        "880306\n",
        "]\n",
        "net_liq_val_4=880306\n",
        "plt.bar(range(len(stocks)), MKT_4 ,tick_label=stocks)\n",
        "plt.bar(8,net_liq_val_4,facecolor = 'yellowgreen')\n",
        "'''for a,b in zip(range(len(stocks)), MKT_0): \n",
        " plt.text(a, b+0.05, '%.0f' % b, ha='center', va= 'bottom',fontsize=11) '''\n",
        "plt.xlabel(\"stocks and net liquidation value\") \n",
        "plt.ylabel(\"Market value\") \n",
        "plt.title(\"2019/11/5 Portfolio\")\n",
        "plt.show()\n",
        "\n",
        "MKT_5=[-197449,\n",
        "-242630,\n",
        "-216904,\n",
        "93505,\n",
        "-501217,\n",
        "-492030,\n",
        "103297,\n",
        "-446875,\n",
        "885526\n",
        "]\n",
        "net_liq_val_5=885526\n",
        "plt.bar(range(len(stocks)), MKT_5 ,tick_label=stocks)\n",
        "plt.bar(8,net_liq_val_5,facecolor = 'yellowgreen')\n",
        "'''for a,b in zip(range(len(stocks)), MKT_0): \n",
        " plt.text(a, b+0.05, '%.0f' % b, ha='center', va= 'bottom',fontsize=11) '''\n",
        "plt.xlabel(\"stocks and net liquidation value\") \n",
        "plt.ylabel(\"Market value\") \n",
        "plt.title(\"2019/11/6 Portfolio\")\n",
        "plt.show()\n",
        "\n",
        "D1=[-403973,-403973+200000]\n",
        "plt.bar(range(len(D1)), D1 ,tick_label=['buy 200000 USD FB',''],facecolor = 'green')\n",
        "for a,b in zip(range(len(D1)), D1): \n",
        " plt.text(a, b-20000, '%.0f' % b, ha='center', va= 'bottom',fontsize=11) \n",
        "plt.xlabel(\"trade\") \n",
        "plt.ylabel(\"Market value\") \n",
        "plt.title(\"2019/10/31: trades caused by margin calls\")\n",
        "plt.show()\n",
        "\n",
        "D2_1=[-424950,-424950+336726,-285357,-265357]\n",
        "D2_2=[-285357,-265357]\n",
        "plt.bar([0,1,2,3], D2_1 ,tick_label=['buy 336726 USD AAPL','','buy 20000 USD FB',''],facecolor = 'green')\n",
        "plt.bar([2,3], D2_2 ,facecolor = 'pink')\n",
        "for a,b in zip([0,1,2,3], D2_1): \n",
        " plt.text(a, b-20000, '%.0f' % b, ha='center', va= 'bottom',fontsize=11) \n",
        "for a,b in zip([2,3], D2_2): \n",
        " plt.text(a, b-20000, '%.0f' % b, ha='center', va= 'bottom',fontsize=11) \n",
        "plt.xlabel(\"trade\") \n",
        "plt.ylabel(\"Market value\") \n",
        "plt.title(\"2019/11/1: trades caused by margin calls\")\n",
        "plt.show()\n",
        "\n",
        "D3_1=[-256099,-256099+50000, -268480,-258480,-258748,-248748]\n",
        "D3_2=[-268480,-258480]\n",
        "D3_3=[-258748,-248748]\n",
        "plt.bar([0,1,2,3,4,5], D3_1 ,tick_label=['buy 50000 AMZN','','buy 10000 FB','','buy 10000 FB',''],facecolor = 'green')\n",
        "plt.bar([2,3], D3_2 ,facecolor = 'pink')\n",
        "plt.bar([4,5], D3_3 ,facecolor = 'blue')\n",
        "\n",
        "for a,b in zip([0,1], D3_1): \n",
        " plt.text(a, b-11000, '%.0f' % b, ha='center', va= 'bottom',fontsize=11) \n",
        "for a,b in zip([2,3], D3_2): \n",
        " plt.text(a, b-11000, '%.0f' % b, ha='center', va= 'bottom',fontsize=11) \n",
        "for a,b in zip([4,5], D3_3): \n",
        " plt.text(a, b-11000, '%.0f' % b, ha='center', va= 'bottom',fontsize=11) \n",
        "plt.xlabel(\"trade\") \n",
        "plt.ylabel(\"Market value\") \n",
        "plt.title(\"2019/11/4: trades caused by margin calls\")\n",
        "plt.show()\n",
        "\n",
        "D4=[-247254,-246254]\n",
        "plt.bar([0,1], D4 ,tick_label=['buy 1000 USD FB',''],facecolor = 'green')\n",
        "for a,b in zip([0,1], D4): \n",
        " plt.text(a, b-11000, '%.0f' % b, ha='center', va= 'bottom',fontsize=11) \n",
        "plt.xlabel(\"trade\") \n",
        "plt.ylabel(\"Market value\") \n",
        "plt.title(\"2019/11/5: trades caused by margin calls\")\n",
        "plt.show()\n",
        "\n",
        "D5_1=[-197449-10767.6,-197449,-216904-5909.62,-216904]\n",
        "D5_2=[-216904-5909.62,-216904]\n",
        "plt.bar([0,1,2,3], D5_1 ,tick_label=['buy 10767.6 USD AMZN','','buy 5909.62 USD AAPL',''],facecolor = 'green')\n",
        "plt.bar([2,3], D5_2 ,facecolor = 'pink')\n",
        "for a,b in zip([0,1,2,3], D5_1): \n",
        " plt.text(a, b-13000, '%.0f' % b, ha='center', va= 'bottom',fontsize=11) \n",
        "for a,b in zip([2,3], D5_2): \n",
        " plt.text(a, b-13000, '%.0f' % b, ha='center', va= 'bottom',fontsize=11) \n",
        "plt.xlabel(\"trade\") \n",
        "plt.ylabel(\"Market value\") \n",
        "plt.title(\"2019/11/6: trades caused by margin calls\")\n",
        "plt.show()"
      ],
      "execution_count": 0,
      "outputs": []
    },
    {
      "cell_type": "code",
      "metadata": {
        "id": "HNYLgYbUSF6F",
        "colab_type": "code",
        "colab": {}
      },
      "source": [
        "def leverage(n):\n",
        "  a=0\n",
        "  b=0\n",
        "  for i in n:\n",
        "    if i>0:\n",
        "      a=a+i\n",
        "    else: \n",
        "       b=b+i\n",
        "  L=-a/b\n",
        "  return L"
      ],
      "execution_count": 0,
      "outputs": []
    },
    {
      "cell_type": "code",
      "metadata": {
        "id": "Q7fE2sbTT24U",
        "colab_type": "code",
        "colab": {}
      },
      "source": [
        "MV_0=[230909,\n",
        "65284,\n",
        "-48613,\n",
        "192682,\n",
        "119601,\n",
        "274031,\n",
        "260125,\n",
        "-8401,\n",
        "15958,\n",
        "19500,\n",
        "20684,\n",
        "-4052,\n",
        "-56098,\n",
        "-33748,\n",
        "-54543,\n",
        "-88355,\n",
        "-64281,\n",
        "-206491,\n",
        "-156142,\n",
        "65996\n",
        "]\n",
        "MV_1=[-59409.47,\n",
        "54919.04,\n",
        "-303998.1,\n",
        "92105.72,\n",
        "68551.2,\n",
        "79481.6,\n",
        "-66653.94,\n",
        "321360,\n",
        "-103795.65,\n",
        "-89589.12,\n",
        "151040.22,\n",
        "-17808.8,\n",
        "-50304,\n",
        "277996.88,\n",
        "150542.15,\n",
        "-26250,\n",
        "188718.06,\n",
        "-41271.42,\n",
        "-76140.05,\n",
        "-21054.74\n",
        "]\n",
        "MV_2=[67576.3,\n",
        "56050.5,\n",
        "-267691.2,\n",
        "17343.72,\n",
        "57048.6,\n",
        "97514.56,\n",
        "-48834.08,\n",
        "234332.28,\n",
        "-96408.54,\n",
        "-66443.76,\n",
        "161615.5,\n",
        "35976.76,\n",
        "-29071.7,\n",
        "194048.88,\n",
        "130735.12,\n",
        "-11835.1,\n",
        "240099.2,\n",
        "-46548.67,\n",
        "-93896.16,\n",
        "-73660.6\n",
        "]\n",
        "MV_3=[67391.61,\n",
        "54312.5,\n",
        "-272296.64,\n",
        "17800.05,\n",
        "57739.31,\n",
        "98707.92,\n",
        "-48308.68,\n",
        "235893.06,\n",
        "-96753.96,\n",
        "-65626.38,\n",
        "162572.25,\n",
        "35487.8,\n",
        "-30376.96,\n",
        "191851.92,\n",
        "130315,\n",
        "-12658.75,\n",
        "238326.88,\n",
        "-44733.22,\n",
        "-97239.36,\n",
        "-74197.7\n",
        "]\n",
        "MV_4=[132872.48,\n",
        "35178.23,\n",
        "-351585.36,\n",
        "38718.81,\n",
        "134198.4,\n",
        "69604.92,\n",
        "-188173.56,\n",
        "297516.61,\n",
        "-93955,\n",
        "-172539.12,\n",
        "85692.15,\n",
        "28161.56,\n",
        "2823.99,\n",
        "274892.8,\n",
        "180556.95,\n",
        "38595.95,\n",
        "51899.9,\n",
        "-60276.6,\n",
        "-75198.24,\n",
        "59445.33\n",
        "]\n",
        "\n",
        "\n"
      ],
      "execution_count": 0,
      "outputs": []
    },
    {
      "cell_type": "code",
      "metadata": {
        "id": "lnCx6T-FSB_x",
        "colab_type": "code",
        "colab": {}
      },
      "source": [
        "\n"
      ],
      "execution_count": 0,
      "outputs": []
    },
    {
      "cell_type": "code",
      "metadata": {
        "id": "jF8pVyAtSPC_",
        "colab_type": "code",
        "outputId": "798bea02-8a68-4f99-cde7-2adb0dea1d78",
        "colab": {
          "base_uri": "https://localhost:8080/",
          "height": 34
        }
      },
      "source": [
        "L0=leverage(MV_0)\n",
        "L1=leverage(MV_1)\n",
        "L2=leverage(MV_2)\n",
        "L3=leverage(MV_3)\n",
        "L4=leverage(MV_4)\n",
        "\n",
        "L=[L0,L1,L2,L3,L4] \n",
        "print(L)"
      ],
      "execution_count": 0,
      "outputs": [
        {
          "output_type": "stream",
          "text": [
            "[1.7548603903852238, 1.6171374862399686, 1.759748572764102, 1.7386321983008024, 1.5186532228397018]\n"
          ],
          "name": "stdout"
        }
      ]
    },
    {
      "cell_type": "code",
      "metadata": {
        "id": "aCTPx56ESXQg",
        "colab_type": "code",
        "outputId": "f9a181f9-8633-4cb5-bf18-2ad043ec4ebe",
        "colab": {
          "base_uri": "https://localhost:8080/",
          "height": 295
        }
      },
      "source": [
        "day=['10/30','11/7','11/18','11/25','12/2']\n",
        "plt.bar(range(len(L)), L ,tick_label=day,facecolor = 'blue')\n",
        "plt.text(a, b-20000, '%.0f' % b, ha='center', va= 'bottom',fontsize=11)\n",
        "plt.xlabel(\"trading day\") \n",
        "plt.ylabel(\"leverage ratio\") \n",
        "plt.title(\"leverage ratio for portfolio\")\n",
        "plt.show()"
      ],
      "execution_count": 0,
      "outputs": [
        {
          "output_type": "display_data",
          "data": {
            "image/png": "[encoded data removed]",
            "text/plain": [
              "<Figure size 432x288 with 1 Axes>"
            ]
          },
          "metadata": {
            "tags": []
          }
        }
      ]
    },
    {
      "cell_type": "code",
      "metadata": {
        "id": "DJH76PS3Sj-0",
        "colab_type": "code",
        "colab": {}
      },
      "source": [
        "def Market_value(n):\n",
        "  a=0\n",
        "  for i in n:\n",
        "    a=a+i\n",
        "  return a"
      ],
      "execution_count": 0,
      "outputs": []
    },
    {
      "cell_type": "code",
      "metadata": {
        "id": "bmjlwoX_n-Up",
        "colab_type": "code",
        "outputId": "d699bfa5-01bf-419b-a32b-b21003eb371b",
        "colab": {
          "base_uri": "https://localhost:8080/",
          "height": 34
        }
      },
      "source": [
        "MV0=Market_value(MV_0)\n",
        "MV1=Market_value(MV_1)\n",
        "MV2=Market_value(MV_2)\n",
        "MV3=Market_value(MV_3)\n",
        "MV4=Market_value(MV_4)\n",
        "MV=[MV0,MV1,MV2,MV3,MV4] \n",
        "print(MV)  #the trend of Market value is the same as that of leverage ratio\n"
      ],
      "execution_count": 0,
      "outputs": [
        {
          "output_type": "stream",
          "text": [
            "[544046, 528439.58, 557951.61, 548206.65, 488430.2000000001]\n"
          ],
          "name": "stdout"
        }
      ]
    },
    {
      "cell_type": "code",
      "metadata": {
        "id": "iB0p9FjioAZP",
        "colab_type": "code",
        "outputId": "d6698ebc-ab7c-4408-ad53-bf19d82373ba",
        "colab": {
          "base_uri": "https://localhost:8080/",
          "height": 295
        }
      },
      "source": [
        "plt.bar(range(len(MV)), MV ,tick_label=day,facecolor = 'pink')\n",
        "plt.xlabel(\"trading day\") \n",
        "plt.ylabel(\"value\") \n",
        "plt.title(\"Market value of the tangency portfolio\")\n",
        "plt.show()"
      ],
      "execution_count": 0,
      "outputs": [
        {
          "output_type": "display_data",
          "data": {
            "image/png": "[encoded data removed]",
            "text/plain": [
              "<Figure size 432x288 with 1 Axes>"
            ]
          },
          "metadata": {
            "tags": []
          }
        }
      ]
    },
    {
      "cell_type": "code",
      "metadata": {
        "id": "AsXMZVA7ST5f",
        "colab_type": "code",
        "outputId": "02b1597c-f858-4f6e-c7cc-725ae0f6ff9d",
        "colab": {
          "base_uri": "https://localhost:8080/",
          "height": 295
        }
      },
      "source": [
        "\n",
        "net_liq_val=[1011358.07104803,992299.053263803,1010555.174,1000992.56430606,995427.5529\n",
        "]\n",
        "plt.bar(range(len(net_liq_val)), net_liq_val ,tick_label=day,facecolor = 'red')\n",
        "for a,b in zip([0,1,2,3,4], net_liq_val): \n",
        " plt.text(a, b-1000, '%.0f' % b, ha='center', va= 'bottom',fontsize=11) \n",
        "plt.xlabel(\"trading day\") \n",
        "plt.ylabel(\"net liquidation value\") \n",
        "plt.title(\"daily net liquidation value \")\n",
        "plt.show()\n",
        "\n"
      ],
      "execution_count": 0,
      "outputs": [
        {
          "output_type": "display_data",
          "data": {
            "image/png": "[encoded data removed]",
            "text/plain": [
              "<Figure size 432x288 with 1 Axes>"
            ]
          },
          "metadata": {
            "tags": []
          }
        }
      ]
    },
    {
      "cell_type": "code",
      "metadata": {
        "id": "klZNLdUGwjcm",
        "colab_type": "code",
        "colab": {}
      },
      "source": [
        "ex_liq=[1044291,983658,879940,868292,880306,885526]\n",
        "\n",
        "day=['10/30','10/31','11/1','11/4','11/5','11/6']\n",
        "plt.bar(range(len(ex_liq)), ex_liq ,tick_label=day,facecolor = 'yellowgreen')\n",
        "plt.xlabel(\"trading day\") \n",
        "plt.ylabel(\"excess liquidity\") \n",
        "plt.title(\"daily excess liquidity \")\n",
        "plt.show()"
      ],
      "execution_count": 0,
      "outputs": []
    }
  ]
}